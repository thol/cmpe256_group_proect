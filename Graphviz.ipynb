{
 "cells": [
  {
   "cell_type": "code",
   "execution_count": 1,
   "metadata": {},
   "outputs": [
    {
     "data": {
      "text/plain": [
       "'graphs.gv.pdf'"
      ]
     },
     "execution_count": 1,
     "metadata": {},
     "output_type": "execute_result"
    }
   ],
   "source": [
    "\n",
    "\n",
    "from graphviz import Digraph\n",
    "\n",
    "f = Digraph('Trying Graphs', filename='graphs.gv')\n",
    "f.attr(rankdir='LR', size='8,5')\n",
    "\n",
    "\n",
    "\n",
    "f.attr('node', shape='circle')\n",
    "f.edge('S1', 'S2', label='e2')\n",
    "f.edge('S2', 'S3', label='e4')\n",
    "f.edge('S3', 'S4', label='e6')\n",
    "f.node('S4')\n",
    "f.edge('S1', 'S1', label='e1')\n",
    "f.edge('S2', 'S2', label='e3')\n",
    "f.edge('S3', 'S3', label='e5')\n",
    "f.edge('S4', 'S4', label='e7')\n",
    "\n",
    "f.view()"
   ]
  },
  {
   "cell_type": "code",
   "execution_count": null,
   "metadata": {},
   "outputs": [],
   "source": [
    "\n"
   ]
  },
  {
   "cell_type": "code",
   "execution_count": null,
   "metadata": {},
   "outputs": [],
   "source": []
  },
  {
   "cell_type": "code",
   "execution_count": null,
   "metadata": {},
   "outputs": [],
   "source": []
  }
 ],
 "metadata": {
  "kernelspec": {
   "display_name": "Python 3",
   "language": "python",
   "name": "python3"
  },
  "language_info": {
   "codemirror_mode": {
    "name": "ipython",
    "version": 3
   },
   "file_extension": ".py",
   "mimetype": "text/x-python",
   "name": "python",
   "nbconvert_exporter": "python",
   "pygments_lexer": "ipython3",
   "version": "3.6.5"
  }
 },
 "nbformat": 4,
 "nbformat_minor": 2
}
