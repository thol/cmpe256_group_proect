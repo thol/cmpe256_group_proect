{
 "cells": [
  {
   "cell_type": "code",
   "execution_count": 7,
   "metadata": {},
   "outputs": [
    {
     "name": "stderr",
     "output_type": "stream",
     "text": [
      "[nltk_data] Downloading package stopwords to\n",
      "[nltk_data]     /Users/sayalipisal/nltk_data...\n",
      "[nltk_data]   Package stopwords is already up-to-date!\n"
     ]
    },
    {
     "data": {
      "text/plain": [
       "True"
      ]
     },
     "execution_count": 7,
     "metadata": {},
     "output_type": "execute_result"
    }
   ],
   "source": [
    "#Importing necessary libraries for generating recommendations and similar edges(copurchased items)\n",
    "\n",
    "import string\n",
    "import re\n",
    "from nltk.corpus import stopwords\n",
    "from nltk.stem import *\n",
    "from nltk.stem.porter import *\n",
    "from stemming.porter2 import stem\n",
    "import networkx\n",
    "#import nltk\n",
    "#nltk.download('stopwords')\n",
    "import nltk\n",
    "import ssl\n",
    "\n",
    "try:\n",
    "    _create_unverified_https_context = ssl._create_unverified_context\n",
    "except AttributeError:\n",
    "    pass\n",
    "else:\n",
    "    ssl._create_default_https_context = _create_unverified_https_context\n",
    "\n",
    "#nltk.download()\n",
    "nltk.download('stopwords')"
   ]
  },
  {
   "cell_type": "code",
   "execution_count": 8,
   "metadata": {},
   "outputs": [],
   "source": [
    "# RECOMMENDATIONS\n",
    "\n",
    "import networkx\n",
    "from operator import itemgetter\n",
    "import matplotlib.pyplot as plt\n",
    "import matplotlib as mpl"
   ]
  },
  {
   "cell_type": "code",
   "execution_count": 9,
   "metadata": {},
   "outputs": [],
   "source": [
    "# Read the data from the amazon-books.txt to populate amazonProducts nested dictionary\n",
    "# key = ASIN; \n",
    "# value = MetaData associated with ASIN\n",
    "\n",
    "fhr = open('amazon-books.txt', 'r', encoding='utf-8', errors='ignore')\n",
    "amazonBooks = {}\n",
    "fhr.readline()\n",
    "for line in fhr:\n",
    "    cell = line.split('\\t')\n",
    "    MetaData = {}\n",
    "    MetaData['Id'] = cell[0].strip()\n",
    "    ASIN = cell[1].strip()\n",
    "    MetaData['Title'] = cell[2].strip()\n",
    "    MetaData['Categories'] = cell[3].strip()\n",
    "    MetaData['Group'] = cell[4].strip()\n",
    "    MetaData['Copurchased'] = cell[5].strip()\n",
    "    MetaData['SalesRank'] = int(cell[6].strip())\n",
    "    MetaData['TotalReviews'] = int(cell[7].strip())\n",
    "    MetaData['AvgRating'] = float(cell[8].strip())\n",
    "    MetaData['DegreeCentrality'] = int(cell[9].strip())\n",
    "    MetaData['ClusteringCoeff'] = float(cell[10].strip())\n",
    "    amazonBooks[ASIN] = MetaData\n",
    "fhr.close()"
   ]
  },
  {
   "cell_type": "code",
   "execution_count": 10,
   "metadata": {},
   "outputs": [],
   "source": [
    "# Read the data from amazon-books-copurchase.edgelist and assign it to copurchaseGraph weighted Graph;\n",
    "# node = ASIN; \n",
    "# edge = copurchase \n",
    "# edge weight = category similarity\n",
    "\n",
    "fhr = open(\"amazon-books-copurchase.edgelist\", \"rb\")\n",
    "copurchaseGraph = networkx.read_weighted_edgelist(fhr)\n",
    "fhr.close()"
   ]
  },
  {
   "cell_type": "code",
   "execution_count": 12,
   "metadata": {},
   "outputs": [
    {
     "name": "stdout",
     "output_type": "stream",
     "text": [
      "Recommendations for Book with the ID:\n",
      "\n",
      "------------------------------------------------------------\n"
     ]
    }
   ],
   "source": [
    "# Recommendation done for a particular book \n",
    "print(\"Recommendations for Book with the ID:\")\n",
    "print(\"\\n------------------------------------------------------------\")\n",
    "purchasedAsin = '0875421210'\n"
   ]
  },
  {
   "cell_type": "code",
   "execution_count": 15,
   "metadata": {},
   "outputs": [
    {
     "name": "stdout",
     "output_type": "stream",
     "text": [
      "ASIN =  0875421210\n",
      "Title =  Earth Power: Techniques of Natural Magic (Llewellyn's Practical Magick)\n",
      "SalesRank =  100261\n",
      "TotalReviews =  47\n",
      "AvgRating =  4.5\n",
      "DegreeCentrality =  14\n",
      "ClusteringCoeff =  0.67\n"
     ]
    }
   ],
   "source": [
    "# Metadata associated with the book\n",
    "\n",
    "print(\"ASIN = \", purchasedAsin)\n",
    "print(\"Title = \", amazonBooks[purchasedAsin]['Title'])\n",
    "print(\"SalesRank = \", amazonBooks[purchasedAsin]['SalesRank'])\n",
    "print(\"TotalReviews = \", amazonBooks[purchasedAsin]['TotalReviews'])\n",
    "print(\"AvgRating = \", amazonBooks[purchasedAsin]['AvgRating'])\n",
    "print(\"DegreeCentrality = \", amazonBooks[purchasedAsin]['DegreeCentrality'])\n",
    "print(\"ClusteringCoeff = \", amazonBooks[purchasedAsin]['ClusteringCoeff'])"
   ]
  },
  {
   "cell_type": "code",
   "execution_count": 16,
   "metadata": {},
   "outputs": [
    {
     "data": {
      "image/png": "[encoded data removed]",
      "text/plain": [
       "<Figure size 432x288 with 1 Axes>"
      ]
     },
     "metadata": {},
     "output_type": "display_data"
    },
    {
     "data": {
      "text/plain": [
       "<Figure size 432x288 with 0 Axes>"
      ]
     },
     "metadata": {},
     "output_type": "display_data"
    }
   ],
   "source": [
    "# Implementing the depth-1 ego network of purchasedAsin from copurchaseGraph\n",
    "\n",
    "n = purchasedAsin\n",
    "ego = networkx.ego_graph(copurchaseGraph, n, radius=1.5)\n",
    "purchasedAsinEgoGraph = networkx.Graph(ego)\n",
    "pos = networkx.layout.spring_layout(purchasedAsinEgoGraph)\n",
    "M = purchasedAsinEgoGraph.number_of_edges()\n",
    "nodes = networkx.draw_networkx_nodes(purchasedAsinEgoGraph, pos, node_size=10, node_color='green')\n",
    "edges = networkx.draw_networkx_edges(purchasedAsinEgoGraph, pos, node_size=10, edge_cmap=plt.cm.Blues, width=2, alpha=0.1)\n",
    "ax = plt.gca()\n",
    "ax.set_axis_off()\n",
    "plt.title('Degree-1.5 Ego Network')\n",
    "plt.figure(0)\n",
    "plt.show()"
   ]
  },
  {
   "cell_type": "code",
   "execution_count": 21,
   "metadata": {},
   "outputs": [
    {
     "data": {
      "image/png": "[encoded data removed]",
      "text/plain": [
       "<Figure size 432x288 with 1 Axes>"
      ]
     },
     "metadata": {},
     "output_type": "display_data"
    }
   ],
   "source": [
    "# Island method on purchasedAsinEgoGraph to retain edges with Threshold >= 0.5\n",
    "threshold = 0.5\n",
    "purchasedAsinEgoTrimGraph = networkx.Graph()\n",
    "for f,t,e in purchasedAsinEgoGraph.edges(data=True):\n",
    "    if e['weight'] >= threshold:\n",
    "        purchasedAsinEgoTrimGraph.add_edge(f,t, weight=e['weight'])\n",
    "pos = networkx.layout.spring_layout(purchasedAsinEgoTrimGraph)\n",
    "M = purchasedAsinEgoTrimGraph.number_of_edges()\n",
    "nodes = networkx.draw_networkx_nodes(purchasedAsinEgoTrimGraph, pos, node_size=10, node_color='green', label=True)\n",
    "edges = networkx.draw_networkx_edges(purchasedAsinEgoTrimGraph, pos, node_size=10, edge_cmap=plt.cm.Blues, width=2, alpha=0.1)\n",
    "ax = plt.gca()\n",
    "ax.set_axis_off()\n",
    "plt.title('Degree-1.5 Ego Network Trimmed using threshold of 0.5')\n",
    "plt.figure(1)\n",
    "plt.show()\n"
   ]
  },
  {
   "cell_type": "code",
   "execution_count": 22,
   "metadata": {},
   "outputs": [],
   "source": [
    "# Get the list of nodes connected to the purchasedAsin\n",
    "purchasedAsinNeighbours = purchasedAsinEgoTrimGraph.neighbors(purchasedAsin)"
   ]
  },
  {
   "cell_type": "code",
   "execution_count": 23,
   "metadata": {},
   "outputs": [],
   "source": [
    "# Accessing metadata with ASIN in purchasedAsinNeighbours\n",
    "AsMeta = []\n",
    "for asin in purchasedAsinNeighbours:\n",
    "    ASIN = asin\n",
    "    Title = amazonBooks[asin]['Title']\n",
    "    SalesRank = amazonBooks[asin]['SalesRank']\n",
    "    TotalReviews = amazonBooks[asin]['TotalReviews']\n",
    "    AvgRating = amazonBooks[asin]['AvgRating']\n",
    "    DegreeCentrality = amazonBooks[asin]['DegreeCentrality']\n",
    "    ClusteringCoeff = amazonBooks[asin]['ClusteringCoeff']\n",
    "    AsMeta.append((ASIN, Title, SalesRank, TotalReviews, AvgRating, DegreeCentrality, ClusteringCoeff))"
   ]
  },
  {
   "cell_type": "code",
   "execution_count": 24,
   "metadata": {},
   "outputs": [],
   "source": [
    "# Sorting the top five nodes in purchasedAsinNeighbour by Average Rating then by TotalReviews\n",
    "T5_byAvgRating_then_byTotalReviews = sorted(AsMeta, key=lambda x: (x[4], x[3]), reverse=True)[:5]"
   ]
  },
  {
   "cell_type": "code",
   "execution_count": 25,
   "metadata": {},
   "outputs": [
    {
     "name": "stdout",
     "output_type": "stream",
     "text": [
      "\n",
      "Top 5 Recommendations by AvgRating then by TotalReviews for Users Purchased the book:\n",
      "\n",
      "------------------------------------------------------------------------------------\n",
      "ASIN\t Title\t SalesRank\t TotalReviews\t AvgRating\t DegreeCentrality\t ClusteringCoeff\n",
      "('0875421229', \"Cunningham's Encyclopedia of Magical Herbs (Llewellyn's Sourcebook Series)\", 6565, 96, 4.5, 68, 0.65)\n",
      "('0875421849', \"Living Wicca: A Further Guide for the Solitary Practitioner (Llewellyn's Practical Magick)\", 6003, 95, 4.5, 30, 0.81)\n",
      "('0875421318', \"Earth, Air, Fire, and Water: More Techniques of Natural Magic (Llewellyn's Practical Magick Series)\", 7286, 57, 4.5, 10, 0.73)\n",
      "('0875421261', \"Cunningham's Encyclopedia of Crystal, Gem, and Metal Magic\", 14867, 39, 4.0, 17, 0.54)\n",
      "('0875421245', \"The Magical Household: Spells & Rituals for the Home (Llewellyn's Practical Magick Series)\", 111836, 21, 4.0, 8, 0.7)\n"
     ]
    }
   ],
   "source": [
    "# Printing the Top 5 Recommendations\n",
    "print('\\nTop 5 Recommendations by AvgRating then by TotalReviews for Users Purchased the book:')\n",
    "print('\\n------------------------------------------------------------------------------------')\n",
    "print('ASIN\\t', 'Title\\t', 'SalesRank\\t', 'TotalReviews\\t', 'AvgRating\\t', 'DegreeCentrality\\t', 'ClusteringCoeff')\n",
    "for asin in T5_byAvgRating_then_byTotalReviews:\n",
    "    print(asin)"
   ]
  },
  {
   "cell_type": "code",
   "execution_count": null,
   "metadata": {},
   "outputs": [],
   "source": []
  },
  {
   "cell_type": "code",
   "execution_count": null,
   "metadata": {},
   "outputs": [],
   "source": []
  }
 ],
 "metadata": {
  "kernelspec": {
   "display_name": "Python 3",
   "language": "python",
   "name": "python3"
  },
  "language_info": {
   "codemirror_mode": {
    "name": "ipython",
    "version": 3
   },
   "file_extension": ".py",
   "mimetype": "text/x-python",
   "name": "python",
   "nbconvert_exporter": "python",
   "pygments_lexer": "ipython3",
   "version": "3.7.1"
  }
 },
 "nbformat": 4,
 "nbformat_minor": 2
}
